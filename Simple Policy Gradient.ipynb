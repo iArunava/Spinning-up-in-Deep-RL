{
  "nbformat": 4,
  "nbformat_minor": 0,
  "metadata": {
    "colab": {
      "name": "Simple Policy Gradient.ipynb",
      "version": "0.3.2",
      "provenance": [],
      "toc_visible": true
    },
    "kernelspec": {
      "display_name": "Python 3",
      "language": "python",
      "name": "python3"
    }
  },
  "cells": [
    {
      "metadata": {
        "id": "N6DmPO15CELr",
        "colab_type": "text"
      },
      "cell_type": "markdown",
      "source": [
        "# Simple Policy Gradient\n",
        "\n",
        "This notebook contains the implementation of the Simple Policy Gradient Algorithm using TensorFlow.\n",
        "<br/>\n",
        "This notebook is created while going through the official Spinning up in Deep RL Docs."
      ]
    },
    {
      "metadata": {
        "id": "wr_BaDfxCwqT",
        "colab_type": "code",
        "colab": {
          "base_uri": "https://localhost:8080/",
          "height": 315
        },
        "outputId": "444d8755-0b9a-4eeb-9dd8-1017601a1385"
      },
      "cell_type": "code",
      "source": [
        "# Required modules\n",
        "!pip install gym\n",
        "!apt-get install python-opengl\n",
        "!pip install pyglet==1.2.4"
      ],
      "execution_count": 1,
      "outputs": [
        {
          "output_type": "stream",
          "text": [
            "Requirement already satisfied: gym in /usr/local/lib/python3.6/dist-packages (0.10.9)\n",
            "Requirement already satisfied: requests>=2.0 in /usr/local/lib/python3.6/dist-packages (from gym) (2.18.4)\n",
            "Requirement already satisfied: six in /usr/local/lib/python3.6/dist-packages (from gym) (1.11.0)\n",
            "Requirement already satisfied: scipy in /usr/local/lib/python3.6/dist-packages (from gym) (1.1.0)\n",
            "Requirement already satisfied: pyglet>=1.2.0 in /usr/local/lib/python3.6/dist-packages (from gym) (1.2.4)\n",
            "Requirement already satisfied: numpy>=1.10.4 in /usr/local/lib/python3.6/dist-packages (from gym) (1.14.6)\n",
            "Requirement already satisfied: chardet<3.1.0,>=3.0.2 in /usr/local/lib/python3.6/dist-packages (from requests>=2.0->gym) (3.0.4)\n",
            "Requirement already satisfied: idna<2.7,>=2.5 in /usr/local/lib/python3.6/dist-packages (from requests>=2.0->gym) (2.6)\n",
            "Requirement already satisfied: urllib3<1.23,>=1.21.1 in /usr/local/lib/python3.6/dist-packages (from requests>=2.0->gym) (1.22)\n",
            "Requirement already satisfied: certifi>=2017.4.17 in /usr/local/lib/python3.6/dist-packages (from requests>=2.0->gym) (2018.10.15)\n",
            "Reading package lists... Done\n",
            "Building dependency tree       \n",
            "Reading state information... Done\n",
            "python-opengl is already the newest version (3.1.0+dfsg-1).\n",
            "0 upgraded, 0 newly installed, 0 to remove and 7 not upgraded.\n",
            "Requirement already satisfied: pyglet==1.2.4 in /usr/local/lib/python3.6/dist-packages (1.2.4)\n"
          ],
          "name": "stdout"
        }
      ]
    },
    {
      "metadata": {
        "id": "SZhpqk-EN2oR",
        "colab_type": "code",
        "colab": {}
      },
      "cell_type": "code",
      "source": [
        "# Import required modules\n",
        "import numpy as np\n",
        "import tensorflow as tf\n",
        "import gym\n",
        "from gym.spaces import Discrete, Box\n",
        "import matplotlib.pyplot as plt\n",
        "%matplotlib inline\n",
        "from IPython import display\n",
        "from google.colab import files"
      ],
      "execution_count": 0,
      "outputs": []
    },
    {
      "metadata": {
        "id": "smhZs1BLOBkP",
        "colab_type": "code",
        "colab": {}
      },
      "cell_type": "code",
      "source": [
        "# Arguments\n",
        "env_name = 'CartPole-v0'\n",
        "render = True"
      ],
      "execution_count": 0,
      "outputs": []
    },
    {
      "metadata": {
        "id": "l01SIfVNOO3c",
        "colab_type": "code",
        "outputId": "5b1e71f1-d91e-47b2-d60d-2ad7f1aedbd6",
        "colab": {
          "base_uri": "https://localhost:8080/",
          "height": 72
        }
      },
      "cell_type": "code",
      "source": [
        "# Create the env\n",
        "env = gym.make('CartPole-v0')"
      ],
      "execution_count": 4,
      "outputs": [
        {
          "output_type": "stream",
          "text": [
            "/usr/local/lib/python3.6/dist-packages/gym/envs/registration.py:14: PkgResourcesDeprecationWarning: Parameters to load are deprecated.  Call .resolve and .require separately.\n",
            "  result = entry_point.load(False)\n"
          ],
          "name": "stderr"
        }
      ]
    },
    {
      "metadata": {
        "id": "zh-CKSfDOUYC",
        "colab_type": "code",
        "outputId": "a84748a6-06eb-43c3-fda8-1cccfa2165e3",
        "colab": {
          "base_uri": "https://localhost:8080/",
          "height": 52
        }
      },
      "cell_type": "code",
      "source": [
        "# Get the action space size and observation space size\n",
        "act_size = env.action_space.n\n",
        "obs_size = env.observation_space.shape[0]\n",
        "\n",
        "print ('Action Space Size: {}'.format(act_size),\n",
        "       '\\nObservation Space Size: {}'.format(obs_size))"
      ],
      "execution_count": 5,
      "outputs": [
        {
          "output_type": "stream",
          "text": [
            "Action Space Size: 2 \n",
            "Observation Space Size: 4\n"
          ],
          "name": "stdout"
        }
      ]
    },
    {
      "metadata": {
        "id": "Rxr8GqXeRR8Z",
        "colab_type": "code",
        "colab": {}
      },
      "cell_type": "code",
      "source": [
        "# Network Hyperparameters\n",
        "layers = 2\n",
        "hneurons = [32, act_size]\n",
        "epochs = 50\n",
        "batch_size = 5000\n",
        "lr = 1e-2\n",
        "hid_act = tf.tanh\n",
        "out_act = None"
      ],
      "execution_count": 0,
      "outputs": []
    },
    {
      "metadata": {
        "id": "HzCocISRRUSZ",
        "colab_type": "code",
        "colab": {}
      },
      "cell_type": "code",
      "source": [
        "# Build the network\n",
        "obs_ph = tf.placeholder(shape=(None, obs_size), dtype=tf.float32, name='input')\n",
        "\n",
        "a1 = tf.layers.dense(obs_ph, units=hneurons[0], activation=hid_act)\n",
        "logits = tf.layers.dense(a1, units=hneurons[1], activation=None)\n",
        "\n",
        "# Select the action\n",
        "actions = tf.squeeze(tf.multinomial(logits=logits, num_samples=1), axis=1)\n",
        "\n",
        "# Loss function whose gradient is the policy gradient\n",
        "weights_ph = tf.placeholder(shape=(None,), dtype=tf.float32)\n",
        "act_ph = tf.placeholder(shape=(None,), dtype=tf.int32)\n",
        "action_masks = tf.one_hot(act_ph, act_size)\n",
        "log_probs = tf.reduce_sum(action_masks * tf.nn.log_softmax(logits), axis=1)\n",
        "loss = -tf.reduce_mean(weights_ph * log_probs)\n",
        "\n",
        "# Make the train op\n",
        "train_op = tf.train.AdamOptimizer(learning_rate=lr).minimize(loss)"
      ],
      "execution_count": 0,
      "outputs": []
    },
    {
      "metadata": {
        "id": "Pz-PkV1QNuz4",
        "colab_type": "code",
        "colab": {}
      },
      "cell_type": "code",
      "source": [
        "sess = tf.Session()\n",
        "sess.run(tf.global_variables_initializer())\n",
        "saver = tf.train.Saver()"
      ],
      "execution_count": 0,
      "outputs": []
    },
    {
      "metadata": {
        "id": "jgQJaVxnlYyv",
        "colab_type": "code",
        "colab": {}
      },
      "cell_type": "code",
      "source": [
        "def show_state(env):\n",
        "    plt.figure(3)\n",
        "    plt.clf()\n",
        "    a = env.render(mode='rgb_array')\n",
        "    print (type(a))\n",
        "    print (a)\n",
        "    plt.imshow(env.render(mode='rgb_array'))\n",
        "    plt.axis('off')\n",
        "    \n",
        "    display.clear_output(wait=True)\n",
        "    display.display(plt.gcf())"
      ],
      "execution_count": 0,
      "outputs": []
    },
    {
      "metadata": {
        "id": "Cqq2GQRKL3HC",
        "colab_type": "code",
        "colab": {}
      },
      "cell_type": "code",
      "source": [
        "def train_one_epoch():\n",
        "    # Declaring variables to store epoch details\n",
        "    batch_acts = []\n",
        "    batch_len = []\n",
        "    batch_weights = []\n",
        "    batch_rews = []\n",
        "    batch_obs = []\n",
        "    \n",
        "    # Reset env\n",
        "    obs = env.reset()\n",
        "    done = False\n",
        "    ep_rews = []\n",
        "    rendered_once_in_epoch = False\n",
        "    \n",
        "    while True:\n",
        "        \n",
        "        if not rendered_once_in_epoch:\n",
        "            # For notebooks on server (like Colab)\n",
        "            #show_state(env)\n",
        "            # For notebooks on local machines\n",
        "            #env.render()\n",
        "            pass\n",
        "            \n",
        "        batch_obs.append(obs)\n",
        "        \n",
        "        act = sess.run([actions], feed_dict={obs_ph: obs.reshape(1 ,-1)})[0][0]\n",
        "        \n",
        "        # Take the action\n",
        "        obs, rewards, done, info = env.step(act)\n",
        "        \n",
        "        # save action, reward\n",
        "        batch_acts.append(act)\n",
        "        ep_rews.append(rewards)\n",
        "        \n",
        "        if done:\n",
        "            # Record info, as episode is complete\n",
        "            ep_ret = sum(ep_rews)\n",
        "            ep_len = len(ep_rews)\n",
        "            \n",
        "            batch_rews.append(ep_ret)\n",
        "            batch_len.append(ep_len)\n",
        "            \n",
        "            batch_weights += [ep_ret] * ep_len\n",
        "            \n",
        "            # Reset the environment\n",
        "            obs, done, ep_rews = env.reset(), False, []\n",
        "            \n",
        "            rendered_once_in_epoch = True\n",
        "            \n",
        "            if batch_size < len(batch_obs):\n",
        "                break\n",
        "                \n",
        "    batch_loss, _ = sess.run([loss, train_op], feed_dict={obs_ph: np.array(batch_obs),\n",
        "                                                              act_ph: np.array(batch_acts),\n",
        "                                                              weights_ph: np.array(batch_weights)})\n",
        "        \n",
        "        \n",
        "    return batch_loss, batch_rews, batch_len"
      ],
      "execution_count": 0,
      "outputs": []
    },
    {
      "metadata": {
        "id": "ZKBRIwRckTcL",
        "colab_type": "code",
        "colab": {}
      },
      "cell_type": "code",
      "source": [
        "# Training Loop Parameters\n",
        "ckpt_interval = 5\n",
        "save_path = './ckpt_path/'\n",
        "restore = True\n",
        "ckpt_num = 15"
      ],
      "execution_count": 0,
      "outputs": []
    },
    {
      "metadata": {
        "id": "wGMf9JlpMNyZ",
        "colab_type": "code",
        "outputId": "c12ba8d0-029a-4aa2-ab90-0ba7562c6026",
        "colab": {
          "base_uri": "https://localhost:8080/",
          "height": 1615
        }
      },
      "cell_type": "code",
      "source": [
        "# Training loop\n",
        "\n",
        "if restore and ckpt_num != None:\n",
        "    saver.restore(sess, save_path + 'spg_ckpt{}.ckpt'.format(ckpt_num))\n",
        "    print ('[INFO]Model Restored!!')\n",
        "    \n",
        "for epoch in range(epochs):\n",
        "    batch_loss, batch_rets, batch_lens = train_one_epoch()\n",
        "    print ('Epoch: {:.3f} Loss: {:.3f} Return: {:.3f} ep_len: {:.3f}'\n",
        "           .format(epoch+1, batch_loss, np.mean(batch_rets), np.mean(batch_lens)))\n",
        "    \n",
        "    if (epoch+1) % ckpt_interval == 0:\n",
        "        print ('[INFO]Saving Checkpoint...')\n",
        "        curr_save_path = saver.save(sess, save_path + 'spg_ckpt{}.ckpt'.format(epoch+1))\n",
        "        print ('[INFO]Session saved Successfully!!')\n",
        "        print ('[INFO]Checkpoint saved at: {}'.format(curr_save_path))\n",
        "        print ('*************************************************')"
      ],
      "execution_count": 21,
      "outputs": [
        {
          "output_type": "stream",
          "text": [
            "INFO:tensorflow:Restoring parameters from ./ckpt_path/spg_ckpt15.ckpt\n",
            "[INFO]Model Restored!!\n",
            "Epoch: 1.000 Loss: 94.900 Return: 185.852 ep_len: 185.852\n",
            "Epoch: 2.000 Loss: 95.248 Return: 189.778 ep_len: 189.778\n",
            "Epoch: 3.000 Loss: 93.399 Return: 184.107 ep_len: 184.107\n",
            "Epoch: 4.000 Loss: 94.960 Return: 188.259 ep_len: 188.259\n",
            "Epoch: 5.000 Loss: 90.891 Return: 179.000 ep_len: 179.000\n",
            "[INFO]Saving Checkpoint...\n",
            "[INFO]Session saved Successfully!!\n",
            "[INFO]Checkpoint saved at: ./ckpt_path/spg_ckpt5.ckpt\n",
            "*************************************************\n",
            "Epoch: 6.000 Loss: 92.226 Return: 185.481 ep_len: 185.481\n",
            "Epoch: 7.000 Loss: 88.927 Return: 177.345 ep_len: 177.345\n",
            "Epoch: 8.000 Loss: 89.039 Return: 183.607 ep_len: 183.607\n",
            "Epoch: 9.000 Loss: 84.313 Return: 170.533 ep_len: 170.533\n",
            "Epoch: 10.000 Loss: 82.875 Return: 170.233 ep_len: 170.233\n",
            "[INFO]Saving Checkpoint...\n",
            "[INFO]Session saved Successfully!!\n",
            "[INFO]Checkpoint saved at: ./ckpt_path/spg_ckpt10.ckpt\n",
            "*************************************************\n",
            "Epoch: 11.000 Loss: 79.048 Return: 165.387 ep_len: 165.387\n",
            "Epoch: 12.000 Loss: 80.159 Return: 169.667 ep_len: 169.667\n",
            "Epoch: 13.000 Loss: 78.457 Return: 164.355 ep_len: 164.355\n",
            "Epoch: 14.000 Loss: 79.690 Return: 173.483 ep_len: 173.483\n",
            "Epoch: 15.000 Loss: 78.927 Return: 170.100 ep_len: 170.100\n",
            "[INFO]Saving Checkpoint...\n",
            "[INFO]Session saved Successfully!!\n",
            "[INFO]Checkpoint saved at: ./ckpt_path/spg_ckpt15.ckpt\n",
            "*************************************************\n",
            "Epoch: 16.000 Loss: 76.956 Return: 169.100 ep_len: 169.100\n",
            "Epoch: 17.000 Loss: 77.104 Return: 168.533 ep_len: 168.533\n",
            "Epoch: 18.000 Loss: 74.537 Return: 163.677 ep_len: 163.677\n",
            "Epoch: 19.000 Loss: 75.099 Return: 170.567 ep_len: 170.567\n",
            "Epoch: 20.000 Loss: 73.042 Return: 164.452 ep_len: 164.452\n",
            "[INFO]Saving Checkpoint...\n",
            "[INFO]Session saved Successfully!!\n",
            "[INFO]Checkpoint saved at: ./ckpt_path/spg_ckpt20.ckpt\n",
            "*************************************************\n",
            "Epoch: 21.000 Loss: 74.969 Return: 172.200 ep_len: 172.200\n",
            "Epoch: 22.000 Loss: 69.107 Return: 158.562 ep_len: 158.562\n",
            "Epoch: 23.000 Loss: 71.353 Return: 162.935 ep_len: 162.935\n",
            "Epoch: 24.000 Loss: 68.825 Return: 160.094 ep_len: 160.094\n",
            "Epoch: 25.000 Loss: 71.799 Return: 167.067 ep_len: 167.067\n",
            "[INFO]Saving Checkpoint...\n",
            "[INFO]Session saved Successfully!!\n",
            "[INFO]Checkpoint saved at: ./ckpt_path/spg_ckpt25.ckpt\n",
            "*************************************************\n",
            "Epoch: 26.000 Loss: 74.101 Return: 172.567 ep_len: 172.567\n",
            "Epoch: 27.000 Loss: 74.920 Return: 174.138 ep_len: 174.138\n",
            "Epoch: 28.000 Loss: 72.890 Return: 171.367 ep_len: 171.367\n",
            "Epoch: 29.000 Loss: 75.761 Return: 175.759 ep_len: 175.759\n",
            "Epoch: 30.000 Loss: 72.667 Return: 177.034 ep_len: 177.034\n",
            "[INFO]Saving Checkpoint...\n",
            "[INFO]Session saved Successfully!!\n",
            "[INFO]Checkpoint saved at: ./ckpt_path/spg_ckpt30.ckpt\n",
            "*************************************************\n",
            "Epoch: 31.000 Loss: 79.209 Return: 185.071 ep_len: 185.071\n",
            "Epoch: 32.000 Loss: 79.253 Return: 187.185 ep_len: 187.185\n",
            "Epoch: 33.000 Loss: 78.923 Return: 191.444 ep_len: 191.444\n",
            "Epoch: 34.000 Loss: 78.204 Return: 189.333 ep_len: 189.333\n",
            "Epoch: 35.000 Loss: 79.983 Return: 192.444 ep_len: 192.444\n",
            "[INFO]Saving Checkpoint...\n",
            "[INFO]Session saved Successfully!!\n",
            "[INFO]Checkpoint saved at: ./ckpt_path/spg_ckpt35.ckpt\n",
            "*************************************************\n",
            "Epoch: 36.000 Loss: 82.217 Return: 193.692 ep_len: 193.692\n",
            "Epoch: 37.000 Loss: 82.714 Return: 199.615 ep_len: 199.615\n",
            "Epoch: 38.000 Loss: 83.894 Return: 198.654 ep_len: 198.654\n",
            "Epoch: 39.000 Loss: 87.199 Return: 199.385 ep_len: 199.385\n",
            "Epoch: 40.000 Loss: 84.367 Return: 199.538 ep_len: 199.538\n",
            "[INFO]Saving Checkpoint...\n",
            "[INFO]Session saved Successfully!!\n",
            "[INFO]Checkpoint saved at: ./ckpt_path/spg_ckpt40.ckpt\n",
            "*************************************************\n",
            "Epoch: 41.000 Loss: 85.091 Return: 199.538 ep_len: 199.538\n",
            "Epoch: 42.000 Loss: 87.190 Return: 199.808 ep_len: 199.808\n",
            "Epoch: 43.000 Loss: 87.480 Return: 200.000 ep_len: 200.000\n",
            "Epoch: 44.000 Loss: 88.377 Return: 200.000 ep_len: 200.000\n",
            "Epoch: 45.000 Loss: 89.082 Return: 199.192 ep_len: 199.192\n",
            "[INFO]Saving Checkpoint...\n",
            "[INFO]Session saved Successfully!!\n",
            "[INFO]Checkpoint saved at: ./ckpt_path/spg_ckpt45.ckpt\n",
            "*************************************************\n",
            "Epoch: 46.000 Loss: 89.767 Return: 200.000 ep_len: 200.000\n",
            "Epoch: 47.000 Loss: 90.286 Return: 200.000 ep_len: 200.000\n",
            "Epoch: 48.000 Loss: 92.028 Return: 200.000 ep_len: 200.000\n",
            "Epoch: 49.000 Loss: 91.099 Return: 200.000 ep_len: 200.000\n",
            "Epoch: 50.000 Loss: 91.074 Return: 200.000 ep_len: 200.000\n",
            "[INFO]Saving Checkpoint...\n",
            "[INFO]Session saved Successfully!!\n",
            "[INFO]Checkpoint saved at: ./ckpt_path/spg_ckpt50.ckpt\n",
            "*************************************************\n"
          ],
          "name": "stdout"
        }
      ]
    },
    {
      "metadata": {
        "id": "Bx8FnKJEl5jf",
        "colab_type": "code",
        "colab": {
          "base_uri": "https://localhost:8080/",
          "height": 86
        },
        "outputId": "697a11ab-dcf6-40a5-fca9-aa37000f02a7"
      },
      "cell_type": "code",
      "source": [
        "# Download checkpoints\n",
        "dwnld_ckpt = 50\n",
        "for file_ending in ['meta', 'index', 'data-00000-of-00001']:\n",
        "    files.download('./ckpt_path/spg_ckpt{}.ckpt.{}'.format(dwnld_ckpt, file_ending))\n",
        "    print ('[INFO]Download popup for ckpt file with .{} ending sent successfully!!'\n",
        "           .format(file_ending))\n",
        "print ('All download notifications for the ckpt {} file sent successfully!!'.format(dwnld_ckpt))"
      ],
      "execution_count": 23,
      "outputs": [
        {
          "output_type": "stream",
          "text": [
            "[INFO]Download popup for ckpt file with .meta ending sent successfully!!\n",
            "[INFO]Download popup for ckpt file with .index ending sent successfully!!\n",
            "[INFO]Download popup for ckpt file with .data-00000-of-00001 ending sent successfully!!\n",
            "All download notifications for the ckpt 50 file sent successfully!!\n"
          ],
          "name": "stdout"
        }
      ]
    },
    {
      "metadata": {
        "id": "T7PFOoR1Kt8d",
        "colab_type": "code",
        "outputId": "12d64c84-e958-459a-c4e6-887d7e08969f",
        "colab": {
          "base_uri": "https://localhost:8080/",
          "height": 280
        }
      },
      "cell_type": "code",
      "source": [
        "# TensorBoard Setup\n",
        "!wget https://bin.equinox.io/c/4VmDzA7iaHb/ngrok-stable-linux-amd64.zip\n",
        "!unzip ngrok-stable-linux-amd64.zip\n",
        "get_ipython().system_raw('tensorboard --logdir=./tboard/FrozenLake-v0/ &')\n",
        "get_ipython().system_raw('./ngrok http 6006 &')\n",
        "!curl -s http://localhost:4040/api/tunnels | python3 -c \\\n",
        "    \"import sys, json; print(json.load(sys.stdin)['tunnels'][0]['public_url'])\""
      ],
      "execution_count": 0,
      "outputs": [
        {
          "output_type": "stream",
          "text": [
            "--2018-12-01 19:11:33--  https://bin.equinox.io/c/4VmDzA7iaHb/ngrok-stable-linux-amd64.zip\n",
            "Resolving bin.equinox.io (bin.equinox.io)... 34.232.181.106, 34.226.180.131, 34.232.40.183, ...\n",
            "Connecting to bin.equinox.io (bin.equinox.io)|34.232.181.106|:443... connected.\n",
            "HTTP request sent, awaiting response... 200 OK\n",
            "Length: 5363700 (5.1M) [application/octet-stream]\n",
            "Saving to: ‘ngrok-stable-linux-amd64.zip’\n",
            "\n",
            "\r          ngrok-sta   0%[                    ]       0  --.-KB/s               \r         ngrok-stab  96%[==================> ]   4.92M  12.2MB/s               \rngrok-stable-linux- 100%[===================>]   5.11M  10.6MB/s    in 0.5s    \n",
            "\n",
            "2018-12-01 19:11:33 (10.6 MB/s) - ‘ngrok-stable-linux-amd64.zip’ saved [5363700/5363700]\n",
            "\n",
            "Archive:  ngrok-stable-linux-amd64.zip\n",
            "  inflating: ngrok                   \n",
            "http://d2cfdd99.ngrok.io\n"
          ],
          "name": "stdout"
        }
      ]
    }
  ]
}